{
 "cells": [
  {
   "cell_type": "code",
   "execution_count": 1,
   "metadata": {},
   "outputs": [
    {
     "name": "stdout",
     "output_type": "stream",
     "text": [
      "There were 1238 restaurants closed on first inspection.\n",
      "\n",
      "There were 547 remained closed on subsequent inspection.\n",
      "\n",
      "There were 810 cleared and opened by subsequent inspection.\n",
      "\n",
      "There were 365 reopened but will need another inspection.\n",
      "\n",
      "1238 + 547 + 810 + 365 +  = 2960\n",
      "\n",
      "There were 2960 that had some word like 'emergency'.\n",
      "\n",
      "So it looks like we got them all.\n"
     ]
    }
   ],
   "source": [
    "# Code to analyze emergency closure data\n",
    "\n",
    "\"\"\"\n",
    "Here are codes used by state inspectors when they determine\n",
    "a restaurant should be closed temporarily. This is taken from\n",
    "http://www.myfloridalicense.com/DBPR/hotels-restaurants/inspections/inspection-dispositions/\n",
    "\n",
    "\n",
    "Facility Temporarily Closed:\n",
    "Operations ordered stopped until violations are corrected\n",
    "The inspector recommended closing the facility immediately\n",
    "after finding conditions that may endanger the health and\n",
    "safety of the public.\n",
    "\n",
    "Dispositions included in this result are:\n",
    "\n",
    "Emergency order recommended – Conditions have been found\n",
    "that endanger the health and safety of the public requiring\n",
    "immediate closure of the establishment.\n",
    "\n",
    "Administrative determination recommended – The establishment\n",
    "is operating without a license and action is being taken\n",
    "to ensure proper licensing is completed.\n",
    "\n",
    "Emergency Order Callback Not Complied – Corrections to violations\n",
    "that resulted in an emergency order were not completed\n",
    "at the time of inspection. Violations may not be noted\n",
    "again on these inspection reports.\n",
    "\"\"\"\n",
    "\n",
    "import csv\n",
    "import pandas as pd\n",
    "import numpy as np\n",
    "import sqlite3\n",
    "\n",
    "# Set up connection to database.\n",
    "\n",
    "imacpath = \"/Users/rayd/workspace/flinsp/datafiles/\"\n",
    "airpath = \"/Users/Doug/workspace/flinsp/datafiles/\"\n",
    "dbfile = \"rinspect18.sqlite\"\n",
    "dbpath = airpath + dbfile\n",
    "conn = sqlite3.connect(dbpath)\n",
    "\n",
    "# Make a list of visitid numbers for restaurants shut down\n",
    "# by inspectors.\n",
    "\n",
    "conn.row_factory = lambda cursor, row: row[0]\n",
    "c = conn.cursor()\n",
    "\n",
    "# on initial inspection\n",
    "vids = c.execute(\"SELECT visitid FROM fdinsp WHERE inspdispos = 'Emergency order recommended'\").fetchall()\n",
    "\n",
    "# remained shut on subsequent inspection\n",
    "vids2 = c.execute(\"SELECT visitid FROM fdinsp WHERE inspdispos = 'Emergency Order Callback Not Complied'\").fetchall()\n",
    "\n",
    "# Make pandas dataframe for both sets\n",
    "\n",
    "conn = sqlite3.connect(dbpath)\n",
    "\n",
    "df = pd.read_sql_query(\"SELECT * FROM fdinsp WHERE inspdispos = 'Emergency order recommended';\", conn)\n",
    "df2 = pd.read_sql_query(\"SELECT * FROM fdinsp WHERE inspdispos = 'Emergency Order Callback Not Complied';\", conn)\n",
    "\n",
    "# Test to see if our dataset is complete\n",
    "\n",
    "count1 = df.shape\n",
    "count2 = df2.shape\n",
    "print(\"There were \" + str(count1[0]) + \" restaurants closed on first inspection.\")\n",
    "print(\"\\nThere were \" + str(count2[0]) + \" remained closed on subsequent inspection.\")\n",
    "\n",
    "# Contains 'Emergency' but means reopened\n",
    "df_test1 = pd.read_sql_query(\n",
    "    \"SELECT * FROM fdinsp WHERE inspdispos = 'Emergency Order Callback Complied';\", conn\n",
    "    )\n",
    "count3 = df_test1.shape\n",
    "print(\"\\nThere were \" + str(count3[0]) + \" cleared and opened by subsequent inspection.\")\n",
    "\n",
    "# Contains 'Emergency' but also means reopened\n",
    "df_test2 = pd.read_sql_query(\n",
    "    \"SELECT * FROM fdinsp WHERE inspdispos = 'Emergency Order Callback Time Extension';\", conn\n",
    "    )\n",
    "count4 = df_test2.shape\n",
    "print(\"\\nThere were \" + str(count4[0]) + \" reopened but will need another inspection.\")\n",
    "\n",
    "print(\"\\n\" +\n",
    "    str(count1[0]) + \" + \" +\n",
    "    str(count2[0]) + \" + \" +\n",
    "    str(count3[0]) + \" + \" +\n",
    "    str(count4[0]) + \" + \" +\n",
    "    \" = \" + str(count1[0] + count2[0] + count3[0] + count4[0])\n",
    "     )\n",
    "\n",
    "# Contains something like 'Emergency' but are there some where spelling or capitalization shifts?\n",
    "df_test3 = pd.read_sql_query(\"SELECT * FROM fdinsp WHERE inspdispos LIKE '%mergency%';\", conn)\n",
    "count5 = df_test3.shape\n",
    "print(\"\\nThere were \" + str(count5[0]) + \" that had some word like 'emergency'.\")\n",
    "\n",
    "print(\"\\nSo it looks like we got them all.\")\n"
   ]
  },
  {
   "cell_type": "code",
   "execution_count": 2,
   "metadata": {},
   "outputs": [],
   "source": [
    "# Create list of dictionaries with detailed inspection reports\n",
    "# that led to closures\n",
    "\n",
    "def dict_factory(cursor, row):\n",
    "    dvio = {}\n",
    "    for idx, col in enumerate(cursor.description):\n",
    "        dvio[col[0]] = row[idx]\n",
    "    return dvio\n",
    "\n",
    "lvio = []\n",
    "lvio2 = []\n",
    "\n",
    "for vid in vids:\n",
    "    con = sqlite3.connect(dbpath)\n",
    "    con.row_factory = dict_factory\n",
    "    cur = con.cursor()\n",
    "    cur.execute(f\"SELECT * FROM violations WHERE visitid = {vid}\")\n",
    "    lvio.extend(cur.fetchall())\n",
    "    con.close()\n",
    "\n",
    "for vid2 in vids2:\n",
    "    con = sqlite3.connect(dbpath)\n",
    "    con.row_factory = dict_factory\n",
    "    cur = con.cursor()\n",
    "    cur.execute(f\"SELECT * FROM violations WHERE visitid = {vid2}\")\n",
    "    lvio2.extend(cur.fetchall())\n",
    "    con.close()\n"
   ]
  },
  {
   "cell_type": "code",
   "execution_count": 3,
   "metadata": {},
   "outputs": [],
   "source": [
    "# Write csv files for violation details\n",
    "\n",
    "keys = lvio[0].keys\n",
    "\n",
    "with open('closurevios.csv', 'w', newline='') as output_file:\n",
    "    fc = csv.DictWriter(output_file,\n",
    "                        fieldnames=lvio[0].keys()\n",
    "                       )\n",
    "\n",
    "    fc.writeheader()\n",
    "    fc.writerows(lvio)\n",
    "\n",
    "keys = lvio2[0].keys\n",
    "\n",
    "with open('closurevios2.csv', 'w', newline='') as output_file:\n",
    "    fc = csv.DictWriter(output_file,\n",
    "                        fieldnames=lvio2[0].keys()\n",
    "                       )\n",
    "\n",
    "    fc.writeheader()\n",
    "    fc.writerows(lvio2)\n"
   ]
  },
  {
   "cell_type": "code",
   "execution_count": 6,
   "metadata": {},
   "outputs": [],
   "source": [
    "# Make dataframes with violation details\n",
    "\n",
    "df3 = pd.DataFrame(lvio) # Closed on initial inspection\n",
    "df4 = pd.DataFrame(lvio2) # Remained closed after follow-up\n",
    "\n",
    "# What was the most common violation in a closure inspection?\n",
    "\n",
    "df3g = df3.groupby('violation').count().sort_values(by=['visitid'], axis=0, ascending=False)\n",
    "\n",
    "# What were the most common violations in a closure inspection?\n",
    "\n",
    "df3.groupby('violation').count().sort_values(\n",
    "    by=['visitid'], axis=0, ascending=False\n",
    "    ).head(10)\n"
   ]
  },
  {
   "cell_type": "code",
   "execution_count": 7,
   "metadata": {},
   "outputs": [
    {
     "data": {
      "text/plain": [
       "'03A-02-4'"
      ]
     },
     "execution_count": 7,
     "metadata": {},
     "output_type": "execute_result"
    }
   ],
   "source": [
    "# Violation codes and descriptions\n",
    "a = '35A-01-4' # Intermediate: Service animals\n",
    "b = '35A-02-5' # High priority: Live, small flying insects in food service area\n",
    "c = '35A-03-4' # Basic: Dead roaches on premesis\n",
    "'35A-04-4' # High priority: Rodent activity present as evidenced by droppings\n",
    "'35A-05-4' # High priority: Live roaches found\n",
    "'35A-06-4' # Basic: Accumulation of dead or trapped pests\n",
    "'35A-07-4' # High priority: Small flying insects in bar, kitchen, dumster, prep area\n",
    "'35A-09-4' # High priority: Presence of insects, rodents or other pests\n",
    "'35A-18-4' # High priority: Rodent rub marks present\n",
    "'35A-20-4' # Basoc: Dead rodent present\n",
    "'35A-21-4' # High priority: Rodent burrow or nesting materials present\n",
    "'35A-23-4' # High priority: Rodent droppings present\n",
    "'03A-02-4' # High priority: Potentially hazardous  cold food held at greater than 41 degrees\n"
   ]
  },
  {
   "cell_type": "code",
   "execution_count": 15,
   "metadata": {},
   "outputs": [
    {
     "data": {
      "text/plain": [
       "<pandas.core.groupby.groupby.DataFrameGroupBy object at 0x11683cfd0>"
      ]
     },
     "execution_count": 15,
     "metadata": {},
     "output_type": "execute_result"
    }
   ],
   "source": [
    "df3g2 = df3.groupby('violation')\n",
    "df3g2"
   ]
  },
  {
   "cell_type": "code",
   "execution_count": 11,
   "metadata": {},
   "outputs": [
    {
     "ename": "KeyError",
     "evalue": "'violation'",
     "output_type": "error",
     "traceback": [
      "\u001b[0;31m---------------------------------------------------------------------------\u001b[0m",
      "\u001b[0;31mKeyError\u001b[0m                                  Traceback (most recent call last)",
      "\u001b[0;32m~/anaconda3/lib/python3.7/site-packages/pandas/core/indexes/base.py\u001b[0m in \u001b[0;36mget_loc\u001b[0;34m(self, key, method, tolerance)\u001b[0m\n\u001b[1;32m   3077\u001b[0m             \u001b[0;32mtry\u001b[0m\u001b[0;34m:\u001b[0m\u001b[0;34m\u001b[0m\u001b[0;34m\u001b[0m\u001b[0m\n\u001b[0;32m-> 3078\u001b[0;31m                 \u001b[0;32mreturn\u001b[0m \u001b[0mself\u001b[0m\u001b[0;34m.\u001b[0m\u001b[0m_engine\u001b[0m\u001b[0;34m.\u001b[0m\u001b[0mget_loc\u001b[0m\u001b[0;34m(\u001b[0m\u001b[0mkey\u001b[0m\u001b[0;34m)\u001b[0m\u001b[0;34m\u001b[0m\u001b[0;34m\u001b[0m\u001b[0m\n\u001b[0m\u001b[1;32m   3079\u001b[0m             \u001b[0;32mexcept\u001b[0m \u001b[0mKeyError\u001b[0m\u001b[0;34m:\u001b[0m\u001b[0;34m\u001b[0m\u001b[0;34m\u001b[0m\u001b[0m\n",
      "\u001b[0;32mpandas/_libs/index.pyx\u001b[0m in \u001b[0;36mpandas._libs.index.IndexEngine.get_loc\u001b[0;34m()\u001b[0m\n",
      "\u001b[0;32mpandas/_libs/index.pyx\u001b[0m in \u001b[0;36mpandas._libs.index.IndexEngine.get_loc\u001b[0;34m()\u001b[0m\n",
      "\u001b[0;32mpandas/_libs/hashtable_class_helper.pxi\u001b[0m in \u001b[0;36mpandas._libs.hashtable.PyObjectHashTable.get_item\u001b[0;34m()\u001b[0m\n",
      "\u001b[0;32mpandas/_libs/hashtable_class_helper.pxi\u001b[0m in \u001b[0;36mpandas._libs.hashtable.PyObjectHashTable.get_item\u001b[0;34m()\u001b[0m\n",
      "\u001b[0;31mKeyError\u001b[0m: 'violation'",
      "\nDuring handling of the above exception, another exception occurred:\n",
      "\u001b[0;31mKeyError\u001b[0m                                  Traceback (most recent call last)",
      "\u001b[0;32m<ipython-input-11-b58ab02ecabf>\u001b[0m in \u001b[0;36m<module>\u001b[0;34m\u001b[0m\n\u001b[1;32m      4\u001b[0m \u001b[0mvalue\u001b[0m \u001b[0;34m=\u001b[0m \u001b[0;34m'35A-02-5'\u001b[0m\u001b[0;34m\u001b[0m\u001b[0;34m\u001b[0m\u001b[0m\n\u001b[1;32m      5\u001b[0m \u001b[0;34m\u001b[0m\u001b[0m\n\u001b[0;32m----> 6\u001b[0;31m \u001b[0mprint\u001b[0m\u001b[0;34m(\u001b[0m\u001b[0mdf\u001b[0m\u001b[0;34m.\u001b[0m\u001b[0mgroupby\u001b[0m\u001b[0;34m(\u001b[0m\u001b[0;34m'visitid'\u001b[0m\u001b[0;34m)\u001b[0m\u001b[0;34m.\u001b[0m\u001b[0mfilter\u001b[0m\u001b[0;34m(\u001b[0m\u001b[0;32mlambda\u001b[0m \u001b[0mx\u001b[0m\u001b[0;34m:\u001b[0m \u001b[0mall\u001b[0m\u001b[0;34m(\u001b[0m\u001b[0mvalue\u001b[0m \u001b[0;34m!=\u001b[0m \u001b[0mi\u001b[0m \u001b[0;32mfor\u001b[0m \u001b[0mi\u001b[0m \u001b[0;32min\u001b[0m \u001b[0mx\u001b[0m\u001b[0;34m[\u001b[0m\u001b[0;34m'violation'\u001b[0m\u001b[0;34m]\u001b[0m\u001b[0;34m)\u001b[0m\u001b[0;34m)\u001b[0m\u001b[0;34m)\u001b[0m\u001b[0;34m\u001b[0m\u001b[0;34m\u001b[0m\u001b[0m\n\u001b[0m\u001b[1;32m      7\u001b[0m \u001b[0;34m\u001b[0m\u001b[0m\n\u001b[1;32m      8\u001b[0m \u001b[0;31m# dfa = df3[df3['violation'].str.contains(\"35A-0\")]\u001b[0m\u001b[0;34m\u001b[0m\u001b[0;34m\u001b[0m\u001b[0;34m\u001b[0m\u001b[0m\n",
      "\u001b[0;32m~/anaconda3/lib/python3.7/site-packages/pandas/core/groupby/groupby.py\u001b[0m in \u001b[0;36mfilter\u001b[0;34m(self, func, dropna, *args, **kwargs)\u001b[0m\n\u001b[1;32m   4562\u001b[0m             \u001b[0mobject\u001b[0m\u001b[0;34m.\u001b[0m\u001b[0m__setattr__\u001b[0m\u001b[0;34m(\u001b[0m\u001b[0mgroup\u001b[0m\u001b[0;34m,\u001b[0m \u001b[0;34m'name'\u001b[0m\u001b[0;34m,\u001b[0m \u001b[0mname\u001b[0m\u001b[0;34m)\u001b[0m\u001b[0;34m\u001b[0m\u001b[0;34m\u001b[0m\u001b[0m\n\u001b[1;32m   4563\u001b[0m \u001b[0;34m\u001b[0m\u001b[0m\n\u001b[0;32m-> 4564\u001b[0;31m             \u001b[0mres\u001b[0m \u001b[0;34m=\u001b[0m \u001b[0mfunc\u001b[0m\u001b[0;34m(\u001b[0m\u001b[0mgroup\u001b[0m\u001b[0;34m,\u001b[0m \u001b[0;34m*\u001b[0m\u001b[0margs\u001b[0m\u001b[0;34m,\u001b[0m \u001b[0;34m**\u001b[0m\u001b[0mkwargs\u001b[0m\u001b[0;34m)\u001b[0m\u001b[0;34m\u001b[0m\u001b[0;34m\u001b[0m\u001b[0m\n\u001b[0m\u001b[1;32m   4565\u001b[0m \u001b[0;34m\u001b[0m\u001b[0m\n\u001b[1;32m   4566\u001b[0m             \u001b[0;32mtry\u001b[0m\u001b[0;34m:\u001b[0m\u001b[0;34m\u001b[0m\u001b[0;34m\u001b[0m\u001b[0m\n",
      "\u001b[0;32m<ipython-input-11-b58ab02ecabf>\u001b[0m in \u001b[0;36m<lambda>\u001b[0;34m(x)\u001b[0m\n\u001b[1;32m      4\u001b[0m \u001b[0mvalue\u001b[0m \u001b[0;34m=\u001b[0m \u001b[0;34m'35A-02-5'\u001b[0m\u001b[0;34m\u001b[0m\u001b[0;34m\u001b[0m\u001b[0m\n\u001b[1;32m      5\u001b[0m \u001b[0;34m\u001b[0m\u001b[0m\n\u001b[0;32m----> 6\u001b[0;31m \u001b[0mprint\u001b[0m\u001b[0;34m(\u001b[0m\u001b[0mdf\u001b[0m\u001b[0;34m.\u001b[0m\u001b[0mgroupby\u001b[0m\u001b[0;34m(\u001b[0m\u001b[0;34m'visitid'\u001b[0m\u001b[0;34m)\u001b[0m\u001b[0;34m.\u001b[0m\u001b[0mfilter\u001b[0m\u001b[0;34m(\u001b[0m\u001b[0;32mlambda\u001b[0m \u001b[0mx\u001b[0m\u001b[0;34m:\u001b[0m \u001b[0mall\u001b[0m\u001b[0;34m(\u001b[0m\u001b[0mvalue\u001b[0m \u001b[0;34m!=\u001b[0m \u001b[0mi\u001b[0m \u001b[0;32mfor\u001b[0m \u001b[0mi\u001b[0m \u001b[0;32min\u001b[0m \u001b[0mx\u001b[0m\u001b[0;34m[\u001b[0m\u001b[0;34m'violation'\u001b[0m\u001b[0;34m]\u001b[0m\u001b[0;34m)\u001b[0m\u001b[0;34m)\u001b[0m\u001b[0;34m)\u001b[0m\u001b[0;34m\u001b[0m\u001b[0;34m\u001b[0m\u001b[0m\n\u001b[0m\u001b[1;32m      7\u001b[0m \u001b[0;34m\u001b[0m\u001b[0m\n\u001b[1;32m      8\u001b[0m \u001b[0;31m# dfa = df3[df3['violation'].str.contains(\"35A-0\")]\u001b[0m\u001b[0;34m\u001b[0m\u001b[0;34m\u001b[0m\u001b[0;34m\u001b[0m\u001b[0m\n",
      "\u001b[0;32m~/anaconda3/lib/python3.7/site-packages/pandas/core/frame.py\u001b[0m in \u001b[0;36m__getitem__\u001b[0;34m(self, key)\u001b[0m\n\u001b[1;32m   2686\u001b[0m             \u001b[0;32mreturn\u001b[0m \u001b[0mself\u001b[0m\u001b[0;34m.\u001b[0m\u001b[0m_getitem_multilevel\u001b[0m\u001b[0;34m(\u001b[0m\u001b[0mkey\u001b[0m\u001b[0;34m)\u001b[0m\u001b[0;34m\u001b[0m\u001b[0;34m\u001b[0m\u001b[0m\n\u001b[1;32m   2687\u001b[0m         \u001b[0;32melse\u001b[0m\u001b[0;34m:\u001b[0m\u001b[0;34m\u001b[0m\u001b[0;34m\u001b[0m\u001b[0m\n\u001b[0;32m-> 2688\u001b[0;31m             \u001b[0;32mreturn\u001b[0m \u001b[0mself\u001b[0m\u001b[0;34m.\u001b[0m\u001b[0m_getitem_column\u001b[0m\u001b[0;34m(\u001b[0m\u001b[0mkey\u001b[0m\u001b[0;34m)\u001b[0m\u001b[0;34m\u001b[0m\u001b[0;34m\u001b[0m\u001b[0m\n\u001b[0m\u001b[1;32m   2689\u001b[0m \u001b[0;34m\u001b[0m\u001b[0m\n\u001b[1;32m   2690\u001b[0m     \u001b[0;32mdef\u001b[0m \u001b[0m_getitem_column\u001b[0m\u001b[0;34m(\u001b[0m\u001b[0mself\u001b[0m\u001b[0;34m,\u001b[0m \u001b[0mkey\u001b[0m\u001b[0;34m)\u001b[0m\u001b[0;34m:\u001b[0m\u001b[0;34m\u001b[0m\u001b[0;34m\u001b[0m\u001b[0m\n",
      "\u001b[0;32m~/anaconda3/lib/python3.7/site-packages/pandas/core/frame.py\u001b[0m in \u001b[0;36m_getitem_column\u001b[0;34m(self, key)\u001b[0m\n\u001b[1;32m   2693\u001b[0m         \u001b[0;31m# get column\u001b[0m\u001b[0;34m\u001b[0m\u001b[0;34m\u001b[0m\u001b[0;34m\u001b[0m\u001b[0m\n\u001b[1;32m   2694\u001b[0m         \u001b[0;32mif\u001b[0m \u001b[0mself\u001b[0m\u001b[0;34m.\u001b[0m\u001b[0mcolumns\u001b[0m\u001b[0;34m.\u001b[0m\u001b[0mis_unique\u001b[0m\u001b[0;34m:\u001b[0m\u001b[0;34m\u001b[0m\u001b[0;34m\u001b[0m\u001b[0m\n\u001b[0;32m-> 2695\u001b[0;31m             \u001b[0;32mreturn\u001b[0m \u001b[0mself\u001b[0m\u001b[0;34m.\u001b[0m\u001b[0m_get_item_cache\u001b[0m\u001b[0;34m(\u001b[0m\u001b[0mkey\u001b[0m\u001b[0;34m)\u001b[0m\u001b[0;34m\u001b[0m\u001b[0;34m\u001b[0m\u001b[0m\n\u001b[0m\u001b[1;32m   2696\u001b[0m \u001b[0;34m\u001b[0m\u001b[0m\n\u001b[1;32m   2697\u001b[0m         \u001b[0;31m# duplicate columns & possible reduce dimensionality\u001b[0m\u001b[0;34m\u001b[0m\u001b[0;34m\u001b[0m\u001b[0;34m\u001b[0m\u001b[0m\n",
      "\u001b[0;32m~/anaconda3/lib/python3.7/site-packages/pandas/core/generic.py\u001b[0m in \u001b[0;36m_get_item_cache\u001b[0;34m(self, item)\u001b[0m\n\u001b[1;32m   2487\u001b[0m         \u001b[0mres\u001b[0m \u001b[0;34m=\u001b[0m \u001b[0mcache\u001b[0m\u001b[0;34m.\u001b[0m\u001b[0mget\u001b[0m\u001b[0;34m(\u001b[0m\u001b[0mitem\u001b[0m\u001b[0;34m)\u001b[0m\u001b[0;34m\u001b[0m\u001b[0;34m\u001b[0m\u001b[0m\n\u001b[1;32m   2488\u001b[0m         \u001b[0;32mif\u001b[0m \u001b[0mres\u001b[0m \u001b[0;32mis\u001b[0m \u001b[0;32mNone\u001b[0m\u001b[0;34m:\u001b[0m\u001b[0;34m\u001b[0m\u001b[0;34m\u001b[0m\u001b[0m\n\u001b[0;32m-> 2489\u001b[0;31m             \u001b[0mvalues\u001b[0m \u001b[0;34m=\u001b[0m \u001b[0mself\u001b[0m\u001b[0;34m.\u001b[0m\u001b[0m_data\u001b[0m\u001b[0;34m.\u001b[0m\u001b[0mget\u001b[0m\u001b[0;34m(\u001b[0m\u001b[0mitem\u001b[0m\u001b[0;34m)\u001b[0m\u001b[0;34m\u001b[0m\u001b[0;34m\u001b[0m\u001b[0m\n\u001b[0m\u001b[1;32m   2490\u001b[0m             \u001b[0mres\u001b[0m \u001b[0;34m=\u001b[0m \u001b[0mself\u001b[0m\u001b[0;34m.\u001b[0m\u001b[0m_box_item_values\u001b[0m\u001b[0;34m(\u001b[0m\u001b[0mitem\u001b[0m\u001b[0;34m,\u001b[0m \u001b[0mvalues\u001b[0m\u001b[0;34m)\u001b[0m\u001b[0;34m\u001b[0m\u001b[0;34m\u001b[0m\u001b[0m\n\u001b[1;32m   2491\u001b[0m             \u001b[0mcache\u001b[0m\u001b[0;34m[\u001b[0m\u001b[0mitem\u001b[0m\u001b[0;34m]\u001b[0m \u001b[0;34m=\u001b[0m \u001b[0mres\u001b[0m\u001b[0;34m\u001b[0m\u001b[0;34m\u001b[0m\u001b[0m\n",
      "\u001b[0;32m~/anaconda3/lib/python3.7/site-packages/pandas/core/internals.py\u001b[0m in \u001b[0;36mget\u001b[0;34m(self, item, fastpath)\u001b[0m\n\u001b[1;32m   4113\u001b[0m \u001b[0;34m\u001b[0m\u001b[0m\n\u001b[1;32m   4114\u001b[0m             \u001b[0;32mif\u001b[0m \u001b[0;32mnot\u001b[0m \u001b[0misna\u001b[0m\u001b[0;34m(\u001b[0m\u001b[0mitem\u001b[0m\u001b[0;34m)\u001b[0m\u001b[0;34m:\u001b[0m\u001b[0;34m\u001b[0m\u001b[0;34m\u001b[0m\u001b[0m\n\u001b[0;32m-> 4115\u001b[0;31m                 \u001b[0mloc\u001b[0m \u001b[0;34m=\u001b[0m \u001b[0mself\u001b[0m\u001b[0;34m.\u001b[0m\u001b[0mitems\u001b[0m\u001b[0;34m.\u001b[0m\u001b[0mget_loc\u001b[0m\u001b[0;34m(\u001b[0m\u001b[0mitem\u001b[0m\u001b[0;34m)\u001b[0m\u001b[0;34m\u001b[0m\u001b[0;34m\u001b[0m\u001b[0m\n\u001b[0m\u001b[1;32m   4116\u001b[0m             \u001b[0;32melse\u001b[0m\u001b[0;34m:\u001b[0m\u001b[0;34m\u001b[0m\u001b[0;34m\u001b[0m\u001b[0m\n\u001b[1;32m   4117\u001b[0m                 \u001b[0mindexer\u001b[0m \u001b[0;34m=\u001b[0m \u001b[0mnp\u001b[0m\u001b[0;34m.\u001b[0m\u001b[0marange\u001b[0m\u001b[0;34m(\u001b[0m\u001b[0mlen\u001b[0m\u001b[0;34m(\u001b[0m\u001b[0mself\u001b[0m\u001b[0;34m.\u001b[0m\u001b[0mitems\u001b[0m\u001b[0;34m)\u001b[0m\u001b[0;34m)\u001b[0m\u001b[0;34m[\u001b[0m\u001b[0misna\u001b[0m\u001b[0;34m(\u001b[0m\u001b[0mself\u001b[0m\u001b[0;34m.\u001b[0m\u001b[0mitems\u001b[0m\u001b[0;34m)\u001b[0m\u001b[0;34m]\u001b[0m\u001b[0;34m\u001b[0m\u001b[0;34m\u001b[0m\u001b[0m\n",
      "\u001b[0;32m~/anaconda3/lib/python3.7/site-packages/pandas/core/indexes/base.py\u001b[0m in \u001b[0;36mget_loc\u001b[0;34m(self, key, method, tolerance)\u001b[0m\n\u001b[1;32m   3078\u001b[0m                 \u001b[0;32mreturn\u001b[0m \u001b[0mself\u001b[0m\u001b[0;34m.\u001b[0m\u001b[0m_engine\u001b[0m\u001b[0;34m.\u001b[0m\u001b[0mget_loc\u001b[0m\u001b[0;34m(\u001b[0m\u001b[0mkey\u001b[0m\u001b[0;34m)\u001b[0m\u001b[0;34m\u001b[0m\u001b[0;34m\u001b[0m\u001b[0m\n\u001b[1;32m   3079\u001b[0m             \u001b[0;32mexcept\u001b[0m \u001b[0mKeyError\u001b[0m\u001b[0;34m:\u001b[0m\u001b[0;34m\u001b[0m\u001b[0;34m\u001b[0m\u001b[0m\n\u001b[0;32m-> 3080\u001b[0;31m                 \u001b[0;32mreturn\u001b[0m \u001b[0mself\u001b[0m\u001b[0;34m.\u001b[0m\u001b[0m_engine\u001b[0m\u001b[0;34m.\u001b[0m\u001b[0mget_loc\u001b[0m\u001b[0;34m(\u001b[0m\u001b[0mself\u001b[0m\u001b[0;34m.\u001b[0m\u001b[0m_maybe_cast_indexer\u001b[0m\u001b[0;34m(\u001b[0m\u001b[0mkey\u001b[0m\u001b[0;34m)\u001b[0m\u001b[0;34m)\u001b[0m\u001b[0;34m\u001b[0m\u001b[0;34m\u001b[0m\u001b[0m\n\u001b[0m\u001b[1;32m   3081\u001b[0m \u001b[0;34m\u001b[0m\u001b[0m\n\u001b[1;32m   3082\u001b[0m         \u001b[0mindexer\u001b[0m \u001b[0;34m=\u001b[0m \u001b[0mself\u001b[0m\u001b[0;34m.\u001b[0m\u001b[0mget_indexer\u001b[0m\u001b[0;34m(\u001b[0m\u001b[0;34m[\u001b[0m\u001b[0mkey\u001b[0m\u001b[0;34m]\u001b[0m\u001b[0;34m,\u001b[0m \u001b[0mmethod\u001b[0m\u001b[0;34m=\u001b[0m\u001b[0mmethod\u001b[0m\u001b[0;34m,\u001b[0m \u001b[0mtolerance\u001b[0m\u001b[0;34m=\u001b[0m\u001b[0mtolerance\u001b[0m\u001b[0;34m)\u001b[0m\u001b[0;34m\u001b[0m\u001b[0;34m\u001b[0m\u001b[0m\n",
      "\u001b[0;32mpandas/_libs/index.pyx\u001b[0m in \u001b[0;36mpandas._libs.index.IndexEngine.get_loc\u001b[0;34m()\u001b[0m\n",
      "\u001b[0;32mpandas/_libs/index.pyx\u001b[0m in \u001b[0;36mpandas._libs.index.IndexEngine.get_loc\u001b[0;34m()\u001b[0m\n",
      "\u001b[0;32mpandas/_libs/hashtable_class_helper.pxi\u001b[0m in \u001b[0;36mpandas._libs.hashtable.PyObjectHashTable.get_item\u001b[0;34m()\u001b[0m\n",
      "\u001b[0;32mpandas/_libs/hashtable_class_helper.pxi\u001b[0m in \u001b[0;36mpandas._libs.hashtable.PyObjectHashTable.get_item\u001b[0;34m()\u001b[0m\n",
      "\u001b[0;31mKeyError\u001b[0m: 'violation'"
     ]
    }
   ],
   "source": [
    "# Are there any closures that don't involve 35A-0*'?\n",
    "# *** THIS ISNT WORKING YET ***\n",
    "\n",
    "value = '35A-02-5'\n",
    "\n",
    "print(df.groupby('visitid').filter(lambda x: all(value != i for i in x['violation'])))\n",
    "\n",
    "# dfa = df3[df3['violation'].str.contains(\"35A-0\")]\n",
    "# dfb = df3[~df3['violation'].str.contains(\"35A-0\")]\n"
   ]
  },
  {
   "cell_type": "code",
   "execution_count": null,
   "metadata": {},
   "outputs": [],
   "source": [
    "# Which counties had the most closures?\n",
    "# Calculated as closers per licensed restaurant\n",
    "\n",
    "# Count closures per county\n",
    "dfc = df.groupby('county').count()\n",
    "dfc = dfc.licnum.reset_index()\n",
    "dfc = dfc.rename(columns={'county' : 'county', 'licnum' : 'closures'})\n",
    "dfc = dfc.set_index('county')\n",
    "\n",
    "# Which counties are included in closures\n",
    "co_inc = list(df.groupby(['county']).groups.keys())\n",
    "\n",
    "#List of all Florida counties\n",
    "with open('counties.txt', 'r') as f:\n",
    "    fl_counties = [line.rstrip('\\n') for line in f]\n",
    "\n",
    "def diff(co_inc, fl_counties):\n",
    "    co_dif = [i for i in co_inc + fl_counties if i not in co_inc]\n",
    "    return co_dif\n",
    "\n",
    "missing_counties = diff(co_inc, fl_counties)\n",
    "\n",
    "print(\"\\nDid any counties not have closure orders in FY2018-19?\")\n",
    "print(\"\\nThese are not included: \" + str(', '.join(missing_counties)))\n",
    "print(\"\\nBut Miami-Dade listed simply as Dade in our data frame.\")\n",
    "\n",
    "missing = list(missing_counties)\n",
    "missing.remove('Miami-Dade')\n"
   ]
  },
  {
   "cell_type": "code",
   "execution_count": null,
   "metadata": {},
   "outputs": [],
   "source": [
    "# Read in csv of licensed restaurants per county\n",
    "df_cntylic = pd.read_csv('countycount.csv')\n",
    "df_cntylic = df_cntylic.drop(['Unnamed: 0'], axis=1)\n",
    "df_cntylic = df_cntylic[~df_cntylic['co_name'].isin(missing)] # drop missing counties\n",
    "df_cntylic= df_cntylic.rename(columns={\"lic_count\": \"licenses\", \"co_name\": \"county\"})\n",
    "df_cntylic = df_cntylic.set_index('county')\n"
   ]
  },
  {
   "cell_type": "code",
   "execution_count": null,
   "metadata": {},
   "outputs": [],
   "source": [
    "# Closures per license\n",
    "dfc = df_cntylic.join(dfc)\n"
   ]
  },
  {
   "cell_type": "code",
   "execution_count": null,
   "metadata": {},
   "outputs": [],
   "source": [
    "dfc['ratio'] = dfc.closures / dfc.licenses\n",
    "dfc['percent'] = dfc.ratio * 100\n",
    "dfc = dfc.sort_values(by=['ratio'])\n",
    "most_closed = dfc.sort_values(by=['ratio'], ascending=False).head(10)\n",
    "least_closed  = dfc.sort_values(by=['ratio'], ascending=True).head(10)"
   ]
  },
  {
   "cell_type": "code",
   "execution_count": null,
   "metadata": {},
   "outputs": [],
   "source": [
    "most_closed.head(20)"
   ]
  },
  {
   "cell_type": "code",
   "execution_count": null,
   "metadata": {},
   "outputs": [],
   "source": [
    "least_closed.head(20)"
   ]
  },
  {
   "cell_type": "code",
   "execution_count": null,
   "metadata": {},
   "outputs": [],
   "source": []
  },
  {
   "cell_type": "code",
   "execution_count": null,
   "metadata": {},
   "outputs": [],
   "source": []
  }
 ],
 "metadata": {
  "kernelspec": {
   "display_name": "Python 3",
   "language": "python",
   "name": "python3"
  },
  "language_info": {
   "codemirror_mode": {
    "name": "ipython",
    "version": 3
   },
   "file_extension": ".py",
   "mimetype": "text/x-python",
   "name": "python",
   "nbconvert_exporter": "python",
   "pygments_lexer": "ipython3",
   "version": "3.7.1"
  }
 },
 "nbformat": 4,
 "nbformat_minor": 2
}
